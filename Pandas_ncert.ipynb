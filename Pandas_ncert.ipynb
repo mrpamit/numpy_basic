{
 "cells": [
  {
   "cell_type": "markdown",
   "id": "6aef0520",
   "metadata": {},
   "source": [
    "                                               pandas_basic_NCERT"
   ]
  },
  {
   "cell_type": "code",
   "execution_count": 1,
   "id": "d25e4585",
   "metadata": {},
   "outputs": [
    {
     "data": {
      "text/plain": [
       "0    10\n",
       "1    20\n",
       "2    30\n",
       "dtype: int64"
      ]
     },
     "metadata": {},
     "output_type": "display_data"
    }
   ],
   "source": [
    "# creating series \n",
    "import pandas as pd\n",
    "series1 =pd.Series([10,20,30])\n",
    "display(series1)"
   ]
  },
  {
   "cell_type": "code",
   "execution_count": 2,
   "id": "9dbfbb00",
   "metadata": {},
   "outputs": [],
   "source": [
    "series2 = pd.Series([\"ravi\",\"saif\",\"john\"],index = [3,2,1])"
   ]
  },
  {
   "cell_type": "code",
   "execution_count": 3,
   "id": "b788dd17",
   "metadata": {},
   "outputs": [
    {
     "data": {
      "text/plain": [
       "3    ravi\n",
       "2    saif\n",
       "1    john\n",
       "dtype: object"
      ]
     },
     "execution_count": 3,
     "metadata": {},
     "output_type": "execute_result"
    }
   ],
   "source": [
    "series2"
   ]
  },
  {
   "cell_type": "code",
   "execution_count": 4,
   "id": "cc5d305a",
   "metadata": {},
   "outputs": [
    {
     "data": {
      "text/plain": [
       "array([0, 1, 2, 3, 4, 5])"
      ]
     },
     "execution_count": 4,
     "metadata": {},
     "output_type": "execute_result"
    }
   ],
   "source": [
    "# creating series from numpy arrays\n",
    "import numpy as np\n",
    "array1 =np.arange(6)\n",
    "array1"
   ]
  },
  {
   "cell_type": "code",
   "execution_count": 5,
   "id": "3200857b",
   "metadata": {},
   "outputs": [
    {
     "data": {
      "text/plain": [
       "1    0\n",
       "2    1\n",
       "3    2\n",
       "4    3\n",
       "5    4\n",
       "6    5\n",
       "dtype: int32"
      ]
     },
     "execution_count": 5,
     "metadata": {},
     "output_type": "execute_result"
    }
   ],
   "source": [
    "series3  =pd.Series(array1,index = [1,2,3,4,5,6])\n",
    "series3"
   ]
  },
  {
   "cell_type": "code",
   "execution_count": 6,
   "id": "c9d971d3",
   "metadata": {
    "scrolled": true
   },
   "outputs": [
    {
     "data": {
      "text/plain": [
       "country     capital\n",
       "India      NewDelhi\n",
       "UK           London\n",
       "Japan         Tokyo\n",
       "dtype: object"
      ]
     },
     "metadata": {},
     "output_type": "display_data"
    }
   ],
   "source": [
    "# creation of series from dictionary \n",
    "dict1 = {'country':'capital','India': 'NewDelhi', 'UK': 'London', 'Japan': 'Tokyo'}\n",
    "series4 = pd.Series(dict1)\n",
    "display(series4)"
   ]
  },
  {
   "cell_type": "code",
   "execution_count": 7,
   "id": "e0c190bc",
   "metadata": {},
   "outputs": [
    {
     "data": {
      "text/plain": [
       "20"
      ]
     },
     "execution_count": 7,
     "metadata": {},
     "output_type": "execute_result"
    }
   ],
   "source": [
    "# accessing Elements of series\n",
    "seriesNum = pd.Series([10,20,30])\n",
    "seriesNum[1]"
   ]
  },
  {
   "cell_type": "code",
   "execution_count": 8,
   "id": "3401fd6a",
   "metadata": {},
   "outputs": [
    {
     "data": {
      "text/plain": [
       "2"
      ]
     },
     "execution_count": 8,
     "metadata": {},
     "output_type": "execute_result"
    }
   ],
   "source": [
    "seriesMnths = pd.Series([2,3,4],index=[\"Feb\",\"Mar\",\"Apr\"])\n",
    "seriesMnths[\"Feb\"]"
   ]
  },
  {
   "cell_type": "code",
   "execution_count": 9,
   "id": "18bef5e1",
   "metadata": {},
   "outputs": [],
   "source": [
    "seriesCapCntry = pd.Series(['NewDelhi', 'WashingtonDC', 'London', 'Paris'], index=['India', 'USA', 'UK', 'France'])"
   ]
  },
  {
   "cell_type": "code",
   "execution_count": 10,
   "id": "96cd0ab3",
   "metadata": {},
   "outputs": [
    {
     "data": {
      "text/plain": [
       "India         NewDelhi\n",
       "USA       WashingtonDC\n",
       "UK              London\n",
       "France           Paris\n",
       "dtype: object"
      ]
     },
     "execution_count": 10,
     "metadata": {},
     "output_type": "execute_result"
    }
   ],
   "source": [
    "seriesCapCntry"
   ]
  },
  {
   "cell_type": "markdown",
   "id": "ab87f2b1",
   "metadata": {},
   "source": [
    "                                    Attributes of Series"
   ]
  },
  {
   "cell_type": "code",
   "execution_count": 11,
   "id": "752129ce",
   "metadata": {},
   "outputs": [],
   "source": [
    "seriesCapCntry.name = 'Capitals'  # assigning  name to the series"
   ]
  },
  {
   "cell_type": "code",
   "execution_count": 12,
   "id": "55268cb4",
   "metadata": {},
   "outputs": [
    {
     "data": {
      "text/plain": [
       "India         NewDelhi\n",
       "USA       WashingtonDC\n",
       "UK              London\n",
       "France           Paris\n",
       "Name: Capitals, dtype: object"
      ]
     },
     "execution_count": 12,
     "metadata": {},
     "output_type": "execute_result"
    }
   ],
   "source": [
    "seriesCapCntry"
   ]
  },
  {
   "cell_type": "code",
   "execution_count": 13,
   "id": "b9ff047f",
   "metadata": {},
   "outputs": [],
   "source": [
    "seriesCapCntry.index.name = \"countires\""
   ]
  },
  {
   "cell_type": "code",
   "execution_count": 14,
   "id": "b5f571eb",
   "metadata": {},
   "outputs": [
    {
     "data": {
      "text/plain": [
       "countires\n",
       "India         NewDelhi\n",
       "USA       WashingtonDC\n",
       "UK              London\n",
       "France           Paris\n",
       "Name: Capitals, dtype: object"
      ]
     },
     "execution_count": 14,
     "metadata": {},
     "output_type": "execute_result"
    }
   ],
   "source": [
    "seriesCapCntry"
   ]
  },
  {
   "cell_type": "code",
   "execution_count": 15,
   "id": "2e0476c8",
   "metadata": {},
   "outputs": [],
   "source": [
    "# seriesCapCntry.values.name = \"capital\""
   ]
  },
  {
   "cell_type": "markdown",
   "id": "2fb2857f",
   "metadata": {},
   "source": [
    "                                          method of series"
   ]
  },
  {
   "cell_type": "code",
   "execution_count": 16,
   "id": "b775b617",
   "metadata": {},
   "outputs": [],
   "source": [
    "# method of series\n",
    "seriesTenTwenty =pd.Series(np.arange(10,30,2))"
   ]
  },
  {
   "cell_type": "code",
   "execution_count": 17,
   "id": "a53f56ba",
   "metadata": {},
   "outputs": [
    {
     "data": {
      "text/plain": [
       "0    10\n",
       "1    12\n",
       "2    14\n",
       "3    16\n",
       "4    18\n",
       "5    20\n",
       "6    22\n",
       "7    24\n",
       "8    26\n",
       "9    28\n",
       "dtype: int32"
      ]
     },
     "execution_count": 17,
     "metadata": {},
     "output_type": "execute_result"
    }
   ],
   "source": [
    "seriesTenTwenty"
   ]
  },
  {
   "cell_type": "code",
   "execution_count": 18,
   "id": "7dd9c7d2",
   "metadata": {},
   "outputs": [
    {
     "data": {
      "text/plain": [
       "0    10\n",
       "1    12\n",
       "2    14\n",
       "3    16\n",
       "4    18\n",
       "dtype: int32"
      ]
     },
     "execution_count": 18,
     "metadata": {},
     "output_type": "execute_result"
    }
   ],
   "source": [
    "seriesTenTwenty.head()"
   ]
  },
  {
   "cell_type": "code",
   "execution_count": 19,
   "id": "24b9f745",
   "metadata": {},
   "outputs": [
    {
     "data": {
      "text/plain": [
       "5    20\n",
       "6    22\n",
       "7    24\n",
       "8    26\n",
       "9    28\n",
       "dtype: int32"
      ]
     },
     "execution_count": 19,
     "metadata": {},
     "output_type": "execute_result"
    }
   ],
   "source": [
    "seriesTenTwenty.tail()"
   ]
  },
  {
   "cell_type": "code",
   "execution_count": 20,
   "id": "1ecdadda",
   "metadata": {},
   "outputs": [
    {
     "data": {
      "text/plain": [
       "10"
      ]
     },
     "execution_count": 20,
     "metadata": {},
     "output_type": "execute_result"
    }
   ],
   "source": [
    "seriesTenTwenty.count()"
   ]
  },
  {
   "cell_type": "code",
   "execution_count": 21,
   "id": "e49fa5d9",
   "metadata": {},
   "outputs": [],
   "source": [
    "seriesA = pd.Series([1,2,3,4,5], index = ['a', 'b', 'c', 'd', 'e'])"
   ]
  },
  {
   "cell_type": "code",
   "execution_count": 22,
   "id": "c98d5caf",
   "metadata": {},
   "outputs": [
    {
     "data": {
      "text/plain": [
       "a    1\n",
       "b    2\n",
       "c    3\n",
       "d    4\n",
       "e    5\n",
       "dtype: int64"
      ]
     },
     "execution_count": 22,
     "metadata": {},
     "output_type": "execute_result"
    }
   ],
   "source": [
    "seriesA"
   ]
  },
  {
   "cell_type": "code",
   "execution_count": 23,
   "id": "25c31781",
   "metadata": {},
   "outputs": [],
   "source": [
    "seriesB = pd.Series([10,20,-10,-50,100], index = ['z', 'y', 'a', 'c', 'e'])"
   ]
  },
  {
   "cell_type": "code",
   "execution_count": 24,
   "id": "c8be995f",
   "metadata": {},
   "outputs": [
    {
     "data": {
      "text/plain": [
       "z     10\n",
       "y     20\n",
       "a    -10\n",
       "c    -50\n",
       "e    100\n",
       "dtype: int64"
      ]
     },
     "execution_count": 24,
     "metadata": {},
     "output_type": "execute_result"
    }
   ],
   "source": [
    "seriesB"
   ]
  },
  {
   "cell_type": "markdown",
   "id": "6f2d1a3b",
   "metadata": {},
   "source": [
    "normal addition"
   ]
  },
  {
   "cell_type": "code",
   "execution_count": 25,
   "id": "df0833e8",
   "metadata": {},
   "outputs": [
    {
     "data": {
      "text/plain": [
       "a     -9.0\n",
       "b      NaN\n",
       "c    -47.0\n",
       "d      NaN\n",
       "e    105.0\n",
       "y      NaN\n",
       "z      NaN\n",
       "dtype: float64"
      ]
     },
     "execution_count": 25,
     "metadata": {},
     "output_type": "execute_result"
    }
   ],
   "source": [
    "seriesA + seriesB"
   ]
  },
  {
   "cell_type": "code",
   "execution_count": 26,
   "id": "6ba43c98",
   "metadata": {},
   "outputs": [
    {
     "data": {
      "text/plain": [
       "a     -9.0\n",
       "b      2.0\n",
       "c    -47.0\n",
       "d      4.0\n",
       "e    105.0\n",
       "y     20.0\n",
       "z     10.0\n",
       "dtype: float64"
      ]
     },
     "execution_count": 26,
     "metadata": {},
     "output_type": "execute_result"
    }
   ],
   "source": [
    "# using fill_value =0 means wherever in series A  the element will be null that  that will get replace with \"0\"\n",
    "seriesA.add(seriesB,fill_value=0)"
   ]
  },
  {
   "cell_type": "code",
   "execution_count": 27,
   "id": "8a5fb7bb",
   "metadata": {},
   "outputs": [
    {
     "data": {
      "text/plain": [
       "a     11.0\n",
       "b   -998.0\n",
       "c     53.0\n",
       "d   -996.0\n",
       "e    -95.0\n",
       "y    980.0\n",
       "z    990.0\n",
       "dtype: float64"
      ]
     },
     "execution_count": 27,
     "metadata": {},
     "output_type": "execute_result"
    }
   ],
   "source": [
    "seriesA.sub(seriesB, fill_value=1000)"
   ]
  },
  {
   "cell_type": "markdown",
   "id": "c66366c4",
   "metadata": {},
   "source": [
    "                                                  DataFrame"
   ]
  },
  {
   "cell_type": "code",
   "execution_count": 28,
   "id": "1d65e598",
   "metadata": {},
   "outputs": [],
   "source": [
    "import numpy as np \n",
    "array1  =np.array([10,20,30])\n",
    "array2 =np.array([100,200,300])\n",
    "array3=np.array([-10,-20,-30,-40])\n",
    "df4 = pd.DataFrame([array1,array2,array3],columns = [\"A\",\"B\",\"C\",\"D\"])"
   ]
  },
  {
   "cell_type": "code",
   "execution_count": 29,
   "id": "c5d7045c",
   "metadata": {},
   "outputs": [
    {
     "data": {
      "text/html": [
       "<div>\n",
       "<style scoped>\n",
       "    .dataframe tbody tr th:only-of-type {\n",
       "        vertical-align: middle;\n",
       "    }\n",
       "\n",
       "    .dataframe tbody tr th {\n",
       "        vertical-align: top;\n",
       "    }\n",
       "\n",
       "    .dataframe thead th {\n",
       "        text-align: right;\n",
       "    }\n",
       "</style>\n",
       "<table border=\"1\" class=\"dataframe\">\n",
       "  <thead>\n",
       "    <tr style=\"text-align: right;\">\n",
       "      <th></th>\n",
       "      <th>A</th>\n",
       "      <th>B</th>\n",
       "      <th>C</th>\n",
       "      <th>D</th>\n",
       "    </tr>\n",
       "  </thead>\n",
       "  <tbody>\n",
       "    <tr>\n",
       "      <th>0</th>\n",
       "      <td>10</td>\n",
       "      <td>20</td>\n",
       "      <td>30</td>\n",
       "      <td>NaN</td>\n",
       "    </tr>\n",
       "    <tr>\n",
       "      <th>1</th>\n",
       "      <td>100</td>\n",
       "      <td>200</td>\n",
       "      <td>300</td>\n",
       "      <td>NaN</td>\n",
       "    </tr>\n",
       "    <tr>\n",
       "      <th>2</th>\n",
       "      <td>-10</td>\n",
       "      <td>-20</td>\n",
       "      <td>-30</td>\n",
       "      <td>-40.0</td>\n",
       "    </tr>\n",
       "  </tbody>\n",
       "</table>\n",
       "</div>"
      ],
      "text/plain": [
       "     A    B    C     D\n",
       "0   10   20   30   NaN\n",
       "1  100  200  300   NaN\n",
       "2  -10  -20  -30 -40.0"
      ]
     },
     "execution_count": 29,
     "metadata": {},
     "output_type": "execute_result"
    }
   ],
   "source": [
    "df4"
   ]
  },
  {
   "cell_type": "code",
   "execution_count": 30,
   "id": "a1db03c8",
   "metadata": {},
   "outputs": [
    {
     "data": {
      "text/html": [
       "<div>\n",
       "<style scoped>\n",
       "    .dataframe tbody tr th:only-of-type {\n",
       "        vertical-align: middle;\n",
       "    }\n",
       "\n",
       "    .dataframe tbody tr th {\n",
       "        vertical-align: top;\n",
       "    }\n",
       "\n",
       "    .dataframe thead th {\n",
       "        text-align: right;\n",
       "    }\n",
       "</style>\n",
       "<table border=\"1\" class=\"dataframe\">\n",
       "  <thead>\n",
       "    <tr style=\"text-align: right;\">\n",
       "      <th></th>\n",
       "      <th>a</th>\n",
       "      <th>b</th>\n",
       "      <th>c</th>\n",
       "    </tr>\n",
       "  </thead>\n",
       "  <tbody>\n",
       "    <tr>\n",
       "      <th>0</th>\n",
       "      <td>10</td>\n",
       "      <td>20</td>\n",
       "      <td>NaN</td>\n",
       "    </tr>\n",
       "    <tr>\n",
       "      <th>1</th>\n",
       "      <td>5</td>\n",
       "      <td>10</td>\n",
       "      <td>20.0</td>\n",
       "    </tr>\n",
       "  </tbody>\n",
       "</table>\n",
       "</div>"
      ],
      "text/plain": [
       "    a   b     c\n",
       "0  10  20   NaN\n",
       "1   5  10  20.0"
      ]
     },
     "metadata": {},
     "output_type": "display_data"
    }
   ],
   "source": [
    "# Create list of dictionaries\n",
    "listDict = [{'a':10, 'b':20}, {'a':5, 'b':10, 'c':20}]\n",
    "df5 =pd.DataFrame(listDict)\n",
    "display(df5)"
   ]
  },
  {
   "cell_type": "code",
   "execution_count": 31,
   "id": "2b8815d2",
   "metadata": {},
   "outputs": [],
   "source": [
    "# Creation of DataFrame from Dictionary of Lists\n",
    "dictForest = {'State': ['Assam', 'Delhi', 'Kerala'],'GArea': [78438, 1483, 38852] ,'VDF' : [2797, 6.72,1663]}"
   ]
  },
  {
   "cell_type": "code",
   "execution_count": 32,
   "id": "aa5070ad",
   "metadata": {},
   "outputs": [
    {
     "data": {
      "text/html": [
       "<div>\n",
       "<style scoped>\n",
       "    .dataframe tbody tr th:only-of-type {\n",
       "        vertical-align: middle;\n",
       "    }\n",
       "\n",
       "    .dataframe tbody tr th {\n",
       "        vertical-align: top;\n",
       "    }\n",
       "\n",
       "    .dataframe thead th {\n",
       "        text-align: right;\n",
       "    }\n",
       "</style>\n",
       "<table border=\"1\" class=\"dataframe\">\n",
       "  <thead>\n",
       "    <tr style=\"text-align: right;\">\n",
       "      <th></th>\n",
       "      <th>State</th>\n",
       "      <th>GArea</th>\n",
       "      <th>VDF</th>\n",
       "    </tr>\n",
       "  </thead>\n",
       "  <tbody>\n",
       "    <tr>\n",
       "      <th>0</th>\n",
       "      <td>Assam</td>\n",
       "      <td>78438</td>\n",
       "      <td>2797.00</td>\n",
       "    </tr>\n",
       "    <tr>\n",
       "      <th>1</th>\n",
       "      <td>Delhi</td>\n",
       "      <td>1483</td>\n",
       "      <td>6.72</td>\n",
       "    </tr>\n",
       "    <tr>\n",
       "      <th>2</th>\n",
       "      <td>Kerala</td>\n",
       "      <td>38852</td>\n",
       "      <td>1663.00</td>\n",
       "    </tr>\n",
       "  </tbody>\n",
       "</table>\n",
       "</div>"
      ],
      "text/plain": [
       "    State  GArea      VDF\n",
       "0   Assam  78438  2797.00\n",
       "1   Delhi   1483     6.72\n",
       "2  Kerala  38852  1663.00"
      ]
     },
     "metadata": {},
     "output_type": "display_data"
    }
   ],
   "source": [
    "df6=pd.DataFrame(dictForest)\n",
    "display(df6)"
   ]
  },
  {
   "cell_type": "code",
   "execution_count": 33,
   "id": "2a28954f",
   "metadata": {},
   "outputs": [],
   "source": [
    "# Creation of DataFrame from Series\n",
    "seriesA = pd.Series([1,2,3,4,5],index = ['a', 'b', 'c', 'd', 'e'])\n",
    "seriesB = pd.Series ([1000,2000,-1000,-5000,1000],index = ['a', 'b', 'c', 'd', 'e'])\n",
    "seriesB = pd.Series([10,20,-10,-50,100],index = ['z', 'y', 'a', 'c', 'e'])"
   ]
  },
  {
   "cell_type": "code",
   "execution_count": 34,
   "id": "5dfa9480",
   "metadata": {},
   "outputs": [
    {
     "data": {
      "text/html": [
       "<div>\n",
       "<style scoped>\n",
       "    .dataframe tbody tr th:only-of-type {\n",
       "        vertical-align: middle;\n",
       "    }\n",
       "\n",
       "    .dataframe tbody tr th {\n",
       "        vertical-align: top;\n",
       "    }\n",
       "\n",
       "    .dataframe thead th {\n",
       "        text-align: right;\n",
       "    }\n",
       "</style>\n",
       "<table border=\"1\" class=\"dataframe\">\n",
       "  <thead>\n",
       "    <tr style=\"text-align: right;\">\n",
       "      <th></th>\n",
       "      <th>a</th>\n",
       "      <th>b</th>\n",
       "      <th>c</th>\n",
       "      <th>d</th>\n",
       "      <th>e</th>\n",
       "      <th>z</th>\n",
       "      <th>y</th>\n",
       "    </tr>\n",
       "  </thead>\n",
       "  <tbody>\n",
       "    <tr>\n",
       "      <th>0</th>\n",
       "      <td>1.0</td>\n",
       "      <td>2.0</td>\n",
       "      <td>3.0</td>\n",
       "      <td>4.0</td>\n",
       "      <td>5.0</td>\n",
       "      <td>NaN</td>\n",
       "      <td>NaN</td>\n",
       "    </tr>\n",
       "    <tr>\n",
       "      <th>1</th>\n",
       "      <td>-10.0</td>\n",
       "      <td>NaN</td>\n",
       "      <td>-50.0</td>\n",
       "      <td>NaN</td>\n",
       "      <td>100.0</td>\n",
       "      <td>10.0</td>\n",
       "      <td>20.0</td>\n",
       "    </tr>\n",
       "    <tr>\n",
       "      <th>2</th>\n",
       "      <td>-10.0</td>\n",
       "      <td>NaN</td>\n",
       "      <td>-50.0</td>\n",
       "      <td>NaN</td>\n",
       "      <td>100.0</td>\n",
       "      <td>10.0</td>\n",
       "      <td>20.0</td>\n",
       "    </tr>\n",
       "  </tbody>\n",
       "</table>\n",
       "</div>"
      ],
      "text/plain": [
       "      a    b     c    d      e     z     y\n",
       "0   1.0  2.0   3.0  4.0    5.0   NaN   NaN\n",
       "1 -10.0  NaN -50.0  NaN  100.0  10.0  20.0\n",
       "2 -10.0  NaN -50.0  NaN  100.0  10.0  20.0"
      ]
     },
     "metadata": {},
     "output_type": "display_data"
    }
   ],
   "source": [
    "df7 = pd.DataFrame([seriesA,seriesB,seriesB])\n",
    "display(df7)"
   ]
  },
  {
   "cell_type": "code",
   "execution_count": 35,
   "id": "93b61246",
   "metadata": {},
   "outputs": [
    {
     "data": {
      "text/html": [
       "<div>\n",
       "<style scoped>\n",
       "    .dataframe tbody tr th:only-of-type {\n",
       "        vertical-align: middle;\n",
       "    }\n",
       "\n",
       "    .dataframe tbody tr th {\n",
       "        vertical-align: top;\n",
       "    }\n",
       "\n",
       "    .dataframe thead th {\n",
       "        text-align: right;\n",
       "    }\n",
       "</style>\n",
       "<table border=\"1\" class=\"dataframe\">\n",
       "  <thead>\n",
       "    <tr style=\"text-align: right;\">\n",
       "      <th></th>\n",
       "      <th>a</th>\n",
       "      <th>b</th>\n",
       "      <th>c</th>\n",
       "      <th>d</th>\n",
       "      <th>e</th>\n",
       "      <th>z</th>\n",
       "      <th>y</th>\n",
       "    </tr>\n",
       "  </thead>\n",
       "  <tbody>\n",
       "    <tr>\n",
       "      <th>0</th>\n",
       "      <td>1.0</td>\n",
       "      <td>2.0</td>\n",
       "      <td>3.0</td>\n",
       "      <td>4.0</td>\n",
       "      <td>5.0</td>\n",
       "      <td>NaN</td>\n",
       "      <td>NaN</td>\n",
       "    </tr>\n",
       "    <tr>\n",
       "      <th>1</th>\n",
       "      <td>-10.0</td>\n",
       "      <td>NaN</td>\n",
       "      <td>-50.0</td>\n",
       "      <td>NaN</td>\n",
       "      <td>100.0</td>\n",
       "      <td>10.0</td>\n",
       "      <td>20.0</td>\n",
       "    </tr>\n",
       "  </tbody>\n",
       "</table>\n",
       "</div>"
      ],
      "text/plain": [
       "      a    b     c    d      e     z     y\n",
       "0   1.0  2.0   3.0  4.0    5.0   NaN   NaN\n",
       "1 -10.0  NaN -50.0  NaN  100.0  10.0  20.0"
      ]
     },
     "execution_count": 35,
     "metadata": {},
     "output_type": "execute_result"
    }
   ],
   "source": [
    "df8 = pd.DataFrame([seriesA, seriesB])\n",
    "df8"
   ]
  },
  {
   "cell_type": "code",
   "execution_count": 36,
   "id": "63751bc9",
   "metadata": {},
   "outputs": [],
   "source": [
    "ResultSheet={'Arnab': pd.Series([90, 91, 97],index=['Maths','Science','Hindi']),'Ramit': pd.Series([92, 81, 96],index=['Maths','Science','Hindi']),'Samridhi': pd.Series([89, 91, 88],index=['Maths','Science','Hindi']),'Riya': pd.Series([81, 71, 67],index=['Maths','Science','Hindi']),'Mallika': pd.Series([94, 95, 99],index=['Maths','Science','Hindi'])}"
   ]
  },
  {
   "cell_type": "code",
   "execution_count": 37,
   "id": "742aeb8b",
   "metadata": {},
   "outputs": [],
   "source": [
    "ResultSheet={'Arnab': pd.Series([90, 91, 97],index=['Maths','Science','Hindi']),'Ramit': pd.Series([92, 81, 96],index=['Maths','Science','Hindi']),'Samridhi': pd.Series([89, 91, 88],index=['Maths','Science','Hindi']),'Riya': pd.Series([81, 71, 67],index=['Maths','Science','Hindi']),'Mallika': pd.Series([94, 95, 99],index=['Maths','Science','Hindi'])}"
   ]
  },
  {
   "cell_type": "code",
   "execution_count": 38,
   "id": "6ee7e805",
   "metadata": {},
   "outputs": [],
   "source": [
    "ResultSheetDF = pd.DataFrame(ResultSheet)\n"
   ]
  },
  {
   "cell_type": "code",
   "execution_count": 39,
   "id": "3ff2e486",
   "metadata": {},
   "outputs": [
    {
     "data": {
      "text/html": [
       "<div>\n",
       "<style scoped>\n",
       "    .dataframe tbody tr th:only-of-type {\n",
       "        vertical-align: middle;\n",
       "    }\n",
       "\n",
       "    .dataframe tbody tr th {\n",
       "        vertical-align: top;\n",
       "    }\n",
       "\n",
       "    .dataframe thead th {\n",
       "        text-align: right;\n",
       "    }\n",
       "</style>\n",
       "<table border=\"1\" class=\"dataframe\">\n",
       "  <thead>\n",
       "    <tr style=\"text-align: right;\">\n",
       "      <th></th>\n",
       "      <th>Arnab</th>\n",
       "      <th>Ramit</th>\n",
       "      <th>Samridhi</th>\n",
       "      <th>Riya</th>\n",
       "      <th>Mallika</th>\n",
       "    </tr>\n",
       "  </thead>\n",
       "  <tbody>\n",
       "    <tr>\n",
       "      <th>Maths</th>\n",
       "      <td>90</td>\n",
       "      <td>92</td>\n",
       "      <td>89</td>\n",
       "      <td>81</td>\n",
       "      <td>94</td>\n",
       "    </tr>\n",
       "    <tr>\n",
       "      <th>Science</th>\n",
       "      <td>91</td>\n",
       "      <td>81</td>\n",
       "      <td>91</td>\n",
       "      <td>71</td>\n",
       "      <td>95</td>\n",
       "    </tr>\n",
       "    <tr>\n",
       "      <th>Hindi</th>\n",
       "      <td>97</td>\n",
       "      <td>96</td>\n",
       "      <td>88</td>\n",
       "      <td>67</td>\n",
       "      <td>99</td>\n",
       "    </tr>\n",
       "  </tbody>\n",
       "</table>\n",
       "</div>"
      ],
      "text/plain": [
       "         Arnab  Ramit  Samridhi  Riya  Mallika\n",
       "Maths       90     92        89    81       94\n",
       "Science     91     81        91    71       95\n",
       "Hindi       97     96        88    67       99"
      ]
     },
     "metadata": {},
     "output_type": "display_data"
    }
   ],
   "source": [
    "display(ResultSheetDF)"
   ]
  },
  {
   "cell_type": "code",
   "execution_count": 40,
   "id": "a67f9065",
   "metadata": {},
   "outputs": [],
   "source": [
    "ResultSheetDF[\"preeti\"] = [89,90,96]"
   ]
  },
  {
   "cell_type": "code",
   "execution_count": 41,
   "id": "c1cb20f3",
   "metadata": {},
   "outputs": [
    {
     "data": {
      "text/html": [
       "<div>\n",
       "<style scoped>\n",
       "    .dataframe tbody tr th:only-of-type {\n",
       "        vertical-align: middle;\n",
       "    }\n",
       "\n",
       "    .dataframe tbody tr th {\n",
       "        vertical-align: top;\n",
       "    }\n",
       "\n",
       "    .dataframe thead th {\n",
       "        text-align: right;\n",
       "    }\n",
       "</style>\n",
       "<table border=\"1\" class=\"dataframe\">\n",
       "  <thead>\n",
       "    <tr style=\"text-align: right;\">\n",
       "      <th></th>\n",
       "      <th>Arnab</th>\n",
       "      <th>Ramit</th>\n",
       "      <th>Samridhi</th>\n",
       "      <th>Riya</th>\n",
       "      <th>Mallika</th>\n",
       "      <th>preeti</th>\n",
       "    </tr>\n",
       "  </thead>\n",
       "  <tbody>\n",
       "    <tr>\n",
       "      <th>Maths</th>\n",
       "      <td>90</td>\n",
       "      <td>92</td>\n",
       "      <td>89</td>\n",
       "      <td>81</td>\n",
       "      <td>94</td>\n",
       "      <td>89</td>\n",
       "    </tr>\n",
       "    <tr>\n",
       "      <th>Science</th>\n",
       "      <td>91</td>\n",
       "      <td>81</td>\n",
       "      <td>91</td>\n",
       "      <td>71</td>\n",
       "      <td>95</td>\n",
       "      <td>90</td>\n",
       "    </tr>\n",
       "    <tr>\n",
       "      <th>Hindi</th>\n",
       "      <td>97</td>\n",
       "      <td>96</td>\n",
       "      <td>88</td>\n",
       "      <td>67</td>\n",
       "      <td>99</td>\n",
       "      <td>96</td>\n",
       "    </tr>\n",
       "  </tbody>\n",
       "</table>\n",
       "</div>"
      ],
      "text/plain": [
       "         Arnab  Ramit  Samridhi  Riya  Mallika  preeti\n",
       "Maths       90     92        89    81       94      89\n",
       "Science     91     81        91    71       95      90\n",
       "Hindi       97     96        88    67       99      96"
      ]
     },
     "metadata": {},
     "output_type": "display_data"
    }
   ],
   "source": [
    "display(ResultSheetDF)"
   ]
  },
  {
   "cell_type": "code",
   "execution_count": 42,
   "id": "2047b011",
   "metadata": {},
   "outputs": [],
   "source": [
    "# addition of new row\n",
    "ResultSheetDF.loc[\"English\"] = np.random.randint(85, 89, size=6, dtype=int)"
   ]
  },
  {
   "cell_type": "code",
   "execution_count": 43,
   "id": "f9eb1021",
   "metadata": {},
   "outputs": [
    {
     "data": {
      "text/html": [
       "<div>\n",
       "<style scoped>\n",
       "    .dataframe tbody tr th:only-of-type {\n",
       "        vertical-align: middle;\n",
       "    }\n",
       "\n",
       "    .dataframe tbody tr th {\n",
       "        vertical-align: top;\n",
       "    }\n",
       "\n",
       "    .dataframe thead th {\n",
       "        text-align: right;\n",
       "    }\n",
       "</style>\n",
       "<table border=\"1\" class=\"dataframe\">\n",
       "  <thead>\n",
       "    <tr style=\"text-align: right;\">\n",
       "      <th></th>\n",
       "      <th>Arnab</th>\n",
       "      <th>Ramit</th>\n",
       "      <th>Samridhi</th>\n",
       "      <th>Riya</th>\n",
       "      <th>Mallika</th>\n",
       "      <th>preeti</th>\n",
       "    </tr>\n",
       "  </thead>\n",
       "  <tbody>\n",
       "    <tr>\n",
       "      <th>Maths</th>\n",
       "      <td>90</td>\n",
       "      <td>92</td>\n",
       "      <td>89</td>\n",
       "      <td>81</td>\n",
       "      <td>94</td>\n",
       "      <td>89</td>\n",
       "    </tr>\n",
       "    <tr>\n",
       "      <th>Science</th>\n",
       "      <td>91</td>\n",
       "      <td>81</td>\n",
       "      <td>91</td>\n",
       "      <td>71</td>\n",
       "      <td>95</td>\n",
       "      <td>90</td>\n",
       "    </tr>\n",
       "    <tr>\n",
       "      <th>Hindi</th>\n",
       "      <td>97</td>\n",
       "      <td>96</td>\n",
       "      <td>88</td>\n",
       "      <td>67</td>\n",
       "      <td>99</td>\n",
       "      <td>96</td>\n",
       "    </tr>\n",
       "    <tr>\n",
       "      <th>English</th>\n",
       "      <td>86</td>\n",
       "      <td>86</td>\n",
       "      <td>85</td>\n",
       "      <td>85</td>\n",
       "      <td>85</td>\n",
       "      <td>86</td>\n",
       "    </tr>\n",
       "  </tbody>\n",
       "</table>\n",
       "</div>"
      ],
      "text/plain": [
       "         Arnab  Ramit  Samridhi  Riya  Mallika  preeti\n",
       "Maths       90     92        89    81       94      89\n",
       "Science     91     81        91    71       95      90\n",
       "Hindi       97     96        88    67       99      96\n",
       "English     86     86        85    85       85      86"
      ]
     },
     "metadata": {},
     "output_type": "display_data"
    }
   ],
   "source": [
    "display(ResultSheetDF)"
   ]
  },
  {
   "cell_type": "code",
   "execution_count": 44,
   "id": "e6c03cd4",
   "metadata": {},
   "outputs": [],
   "source": [
    "# changing rows values \n",
    "# lets consider maths value  = 99\n",
    "ResultSheetDF.loc[\"Maths\"] =99"
   ]
  },
  {
   "cell_type": "code",
   "execution_count": 45,
   "id": "d67dd231",
   "metadata": {},
   "outputs": [
    {
     "data": {
      "text/html": [
       "<div>\n",
       "<style scoped>\n",
       "    .dataframe tbody tr th:only-of-type {\n",
       "        vertical-align: middle;\n",
       "    }\n",
       "\n",
       "    .dataframe tbody tr th {\n",
       "        vertical-align: top;\n",
       "    }\n",
       "\n",
       "    .dataframe thead th {\n",
       "        text-align: right;\n",
       "    }\n",
       "</style>\n",
       "<table border=\"1\" class=\"dataframe\">\n",
       "  <thead>\n",
       "    <tr style=\"text-align: right;\">\n",
       "      <th></th>\n",
       "      <th>Arnab</th>\n",
       "      <th>Ramit</th>\n",
       "      <th>Samridhi</th>\n",
       "      <th>Riya</th>\n",
       "      <th>Mallika</th>\n",
       "      <th>preeti</th>\n",
       "    </tr>\n",
       "  </thead>\n",
       "  <tbody>\n",
       "    <tr>\n",
       "      <th>Maths</th>\n",
       "      <td>99</td>\n",
       "      <td>99</td>\n",
       "      <td>99</td>\n",
       "      <td>99</td>\n",
       "      <td>99</td>\n",
       "      <td>99</td>\n",
       "    </tr>\n",
       "    <tr>\n",
       "      <th>Science</th>\n",
       "      <td>91</td>\n",
       "      <td>81</td>\n",
       "      <td>91</td>\n",
       "      <td>71</td>\n",
       "      <td>95</td>\n",
       "      <td>90</td>\n",
       "    </tr>\n",
       "    <tr>\n",
       "      <th>Hindi</th>\n",
       "      <td>97</td>\n",
       "      <td>96</td>\n",
       "      <td>88</td>\n",
       "      <td>67</td>\n",
       "      <td>99</td>\n",
       "      <td>96</td>\n",
       "    </tr>\n",
       "    <tr>\n",
       "      <th>English</th>\n",
       "      <td>86</td>\n",
       "      <td>86</td>\n",
       "      <td>85</td>\n",
       "      <td>85</td>\n",
       "      <td>85</td>\n",
       "      <td>86</td>\n",
       "    </tr>\n",
       "  </tbody>\n",
       "</table>\n",
       "</div>"
      ],
      "text/plain": [
       "         Arnab  Ramit  Samridhi  Riya  Mallika  preeti\n",
       "Maths       99     99        99    99       99      99\n",
       "Science     91     81        91    71       95      90\n",
       "Hindi       97     96        88    67       99      96\n",
       "English     86     86        85    85       85      86"
      ]
     },
     "execution_count": 45,
     "metadata": {},
     "output_type": "execute_result"
    }
   ],
   "source": [
    "ResultSheetDF"
   ]
  },
  {
   "cell_type": "code",
   "execution_count": 46,
   "id": "bca4ef58",
   "metadata": {},
   "outputs": [],
   "source": [
    "# Deleting Rows or Columns from a DataFrame"
   ]
  },
  {
   "cell_type": "code",
   "execution_count": 47,
   "id": "9011a71a",
   "metadata": {},
   "outputs": [],
   "source": [
    "ResultSheetDF = ResultSheetDF.drop(\"Science\",axis =0)  # here axis =0 i.e its operating rows by rows"
   ]
  },
  {
   "cell_type": "code",
   "execution_count": 48,
   "id": "048018d9",
   "metadata": {},
   "outputs": [
    {
     "data": {
      "text/html": [
       "<div>\n",
       "<style scoped>\n",
       "    .dataframe tbody tr th:only-of-type {\n",
       "        vertical-align: middle;\n",
       "    }\n",
       "\n",
       "    .dataframe tbody tr th {\n",
       "        vertical-align: top;\n",
       "    }\n",
       "\n",
       "    .dataframe thead th {\n",
       "        text-align: right;\n",
       "    }\n",
       "</style>\n",
       "<table border=\"1\" class=\"dataframe\">\n",
       "  <thead>\n",
       "    <tr style=\"text-align: right;\">\n",
       "      <th></th>\n",
       "      <th>Arnab</th>\n",
       "      <th>Ramit</th>\n",
       "      <th>Samridhi</th>\n",
       "      <th>Riya</th>\n",
       "      <th>Mallika</th>\n",
       "      <th>preeti</th>\n",
       "    </tr>\n",
       "  </thead>\n",
       "  <tbody>\n",
       "    <tr>\n",
       "      <th>Maths</th>\n",
       "      <td>99</td>\n",
       "      <td>99</td>\n",
       "      <td>99</td>\n",
       "      <td>99</td>\n",
       "      <td>99</td>\n",
       "      <td>99</td>\n",
       "    </tr>\n",
       "    <tr>\n",
       "      <th>Hindi</th>\n",
       "      <td>97</td>\n",
       "      <td>96</td>\n",
       "      <td>88</td>\n",
       "      <td>67</td>\n",
       "      <td>99</td>\n",
       "      <td>96</td>\n",
       "    </tr>\n",
       "    <tr>\n",
       "      <th>English</th>\n",
       "      <td>86</td>\n",
       "      <td>86</td>\n",
       "      <td>85</td>\n",
       "      <td>85</td>\n",
       "      <td>85</td>\n",
       "      <td>86</td>\n",
       "    </tr>\n",
       "  </tbody>\n",
       "</table>\n",
       "</div>"
      ],
      "text/plain": [
       "         Arnab  Ramit  Samridhi  Riya  Mallika  preeti\n",
       "Maths       99     99        99    99       99      99\n",
       "Hindi       97     96        88    67       99      96\n",
       "English     86     86        85    85       85      86"
      ]
     },
     "execution_count": 48,
     "metadata": {},
     "output_type": "execute_result"
    }
   ],
   "source": [
    "ResultSheetDF"
   ]
  },
  {
   "cell_type": "code",
   "execution_count": 49,
   "id": "358d6f49",
   "metadata": {},
   "outputs": [
    {
     "data": {
      "text/html": [
       "<div>\n",
       "<style scoped>\n",
       "    .dataframe tbody tr th:only-of-type {\n",
       "        vertical-align: middle;\n",
       "    }\n",
       "\n",
       "    .dataframe tbody tr th {\n",
       "        vertical-align: top;\n",
       "    }\n",
       "\n",
       "    .dataframe thead th {\n",
       "        text-align: right;\n",
       "    }\n",
       "</style>\n",
       "<table border=\"1\" class=\"dataframe\">\n",
       "  <thead>\n",
       "    <tr style=\"text-align: right;\">\n",
       "      <th></th>\n",
       "      <th>Samridhi</th>\n",
       "      <th>Riya</th>\n",
       "      <th>Mallika</th>\n",
       "      <th>preeti</th>\n",
       "    </tr>\n",
       "  </thead>\n",
       "  <tbody>\n",
       "    <tr>\n",
       "      <th>Maths</th>\n",
       "      <td>99</td>\n",
       "      <td>99</td>\n",
       "      <td>99</td>\n",
       "      <td>99</td>\n",
       "    </tr>\n",
       "    <tr>\n",
       "      <th>Hindi</th>\n",
       "      <td>88</td>\n",
       "      <td>67</td>\n",
       "      <td>99</td>\n",
       "      <td>96</td>\n",
       "    </tr>\n",
       "    <tr>\n",
       "      <th>English</th>\n",
       "      <td>85</td>\n",
       "      <td>85</td>\n",
       "      <td>85</td>\n",
       "      <td>86</td>\n",
       "    </tr>\n",
       "  </tbody>\n",
       "</table>\n",
       "</div>"
      ],
      "text/plain": [
       "         Samridhi  Riya  Mallika  preeti\n",
       "Maths          99    99       99      99\n",
       "Hindi          88    67       99      96\n",
       "English        85    85       85      86"
      ]
     },
     "execution_count": 49,
     "metadata": {},
     "output_type": "execute_result"
    }
   ],
   "source": [
    "ResultSheetDF.drop([\"Arnab\",\"Ramit\"],axis =1) # here axis = 1 means columns by columns"
   ]
  },
  {
   "cell_type": "code",
   "execution_count": 50,
   "id": "f8d7928c",
   "metadata": {},
   "outputs": [
    {
     "data": {
      "text/html": [
       "<div>\n",
       "<style scoped>\n",
       "    .dataframe tbody tr th:only-of-type {\n",
       "        vertical-align: middle;\n",
       "    }\n",
       "\n",
       "    .dataframe tbody tr th {\n",
       "        vertical-align: top;\n",
       "    }\n",
       "\n",
       "    .dataframe thead th {\n",
       "        text-align: right;\n",
       "    }\n",
       "</style>\n",
       "<table border=\"1\" class=\"dataframe\">\n",
       "  <thead>\n",
       "    <tr style=\"text-align: right;\">\n",
       "      <th></th>\n",
       "      <th>Arnab</th>\n",
       "      <th>Ramit</th>\n",
       "      <th>Samridhi</th>\n",
       "      <th>Riya</th>\n",
       "      <th>Mallika</th>\n",
       "      <th>preeti</th>\n",
       "    </tr>\n",
       "  </thead>\n",
       "  <tbody>\n",
       "    <tr>\n",
       "      <th>Maths</th>\n",
       "      <td>99</td>\n",
       "      <td>99</td>\n",
       "      <td>99</td>\n",
       "      <td>99</td>\n",
       "      <td>99</td>\n",
       "      <td>99</td>\n",
       "    </tr>\n",
       "    <tr>\n",
       "      <th>Hindi</th>\n",
       "      <td>97</td>\n",
       "      <td>96</td>\n",
       "      <td>88</td>\n",
       "      <td>67</td>\n",
       "      <td>99</td>\n",
       "      <td>96</td>\n",
       "    </tr>\n",
       "    <tr>\n",
       "      <th>English</th>\n",
       "      <td>86</td>\n",
       "      <td>86</td>\n",
       "      <td>85</td>\n",
       "      <td>85</td>\n",
       "      <td>85</td>\n",
       "      <td>86</td>\n",
       "    </tr>\n",
       "  </tbody>\n",
       "</table>\n",
       "</div>"
      ],
      "text/plain": [
       "         Arnab  Ramit  Samridhi  Riya  Mallika  preeti\n",
       "Maths       99     99        99    99       99      99\n",
       "Hindi       97     96        88    67       99      96\n",
       "English     86     86        85    85       85      86"
      ]
     },
     "execution_count": 50,
     "metadata": {},
     "output_type": "execute_result"
    }
   ],
   "source": [
    "ResultSheetDF"
   ]
  },
  {
   "cell_type": "code",
   "execution_count": 51,
   "id": "eeb37bfa",
   "metadata": {},
   "outputs": [
    {
     "data": {
      "text/html": [
       "<div>\n",
       "<style scoped>\n",
       "    .dataframe tbody tr th:only-of-type {\n",
       "        vertical-align: middle;\n",
       "    }\n",
       "\n",
       "    .dataframe tbody tr th {\n",
       "        vertical-align: top;\n",
       "    }\n",
       "\n",
       "    .dataframe thead th {\n",
       "        text-align: right;\n",
       "    }\n",
       "</style>\n",
       "<table border=\"1\" class=\"dataframe\">\n",
       "  <thead>\n",
       "    <tr style=\"text-align: right;\">\n",
       "      <th></th>\n",
       "      <th>Arnab</th>\n",
       "      <th>Ramit</th>\n",
       "      <th>Samridhi</th>\n",
       "      <th>Riya</th>\n",
       "      <th>Mallika</th>\n",
       "      <th>preeti</th>\n",
       "    </tr>\n",
       "  </thead>\n",
       "  <tbody>\n",
       "    <tr>\n",
       "      <th>sub1</th>\n",
       "      <td>99</td>\n",
       "      <td>99</td>\n",
       "      <td>99</td>\n",
       "      <td>99</td>\n",
       "      <td>99</td>\n",
       "      <td>99</td>\n",
       "    </tr>\n",
       "    <tr>\n",
       "      <th>sub2</th>\n",
       "      <td>97</td>\n",
       "      <td>96</td>\n",
       "      <td>88</td>\n",
       "      <td>67</td>\n",
       "      <td>99</td>\n",
       "      <td>96</td>\n",
       "    </tr>\n",
       "    <tr>\n",
       "      <th>sub3</th>\n",
       "      <td>86</td>\n",
       "      <td>86</td>\n",
       "      <td>85</td>\n",
       "      <td>85</td>\n",
       "      <td>85</td>\n",
       "      <td>86</td>\n",
       "    </tr>\n",
       "  </tbody>\n",
       "</table>\n",
       "</div>"
      ],
      "text/plain": [
       "      Arnab  Ramit  Samridhi  Riya  Mallika  preeti\n",
       "sub1     99     99        99    99       99      99\n",
       "sub2     97     96        88    67       99      96\n",
       "sub3     86     86        85    85       85      86"
      ]
     },
     "execution_count": 51,
     "metadata": {},
     "output_type": "execute_result"
    }
   ],
   "source": [
    "# Renaming Row Labels of a DataFrame\n",
    "ResultSheetDF.rename({\"Maths\":\"sub1\",\"Hindi\":\"sub2\",\"English\":\"sub3\"},axis = \"index\")"
   ]
  },
  {
   "cell_type": "code",
   "execution_count": 52,
   "id": "af9623b9",
   "metadata": {},
   "outputs": [
    {
     "data": {
      "text/html": [
       "<div>\n",
       "<style scoped>\n",
       "    .dataframe tbody tr th:only-of-type {\n",
       "        vertical-align: middle;\n",
       "    }\n",
       "\n",
       "    .dataframe tbody tr th {\n",
       "        vertical-align: top;\n",
       "    }\n",
       "\n",
       "    .dataframe thead th {\n",
       "        text-align: right;\n",
       "    }\n",
       "</style>\n",
       "<table border=\"1\" class=\"dataframe\">\n",
       "  <thead>\n",
       "    <tr style=\"text-align: right;\">\n",
       "      <th></th>\n",
       "      <th>Arnab</th>\n",
       "      <th>Ramit</th>\n",
       "      <th>Samridhi</th>\n",
       "      <th>Riya</th>\n",
       "      <th>Mallika</th>\n",
       "      <th>preeti</th>\n",
       "    </tr>\n",
       "  </thead>\n",
       "  <tbody>\n",
       "    <tr>\n",
       "      <th>Maths</th>\n",
       "      <td>99</td>\n",
       "      <td>99</td>\n",
       "      <td>99</td>\n",
       "      <td>99</td>\n",
       "      <td>99</td>\n",
       "      <td>99</td>\n",
       "    </tr>\n",
       "    <tr>\n",
       "      <th>Hindi</th>\n",
       "      <td>97</td>\n",
       "      <td>96</td>\n",
       "      <td>88</td>\n",
       "      <td>67</td>\n",
       "      <td>99</td>\n",
       "      <td>96</td>\n",
       "    </tr>\n",
       "    <tr>\n",
       "      <th>English</th>\n",
       "      <td>86</td>\n",
       "      <td>86</td>\n",
       "      <td>85</td>\n",
       "      <td>85</td>\n",
       "      <td>85</td>\n",
       "      <td>86</td>\n",
       "    </tr>\n",
       "  </tbody>\n",
       "</table>\n",
       "</div>"
      ],
      "text/plain": [
       "         Arnab  Ramit  Samridhi  Riya  Mallika  preeti\n",
       "Maths       99     99        99    99       99      99\n",
       "Hindi       97     96        88    67       99      96\n",
       "English     86     86        85    85       85      86"
      ]
     },
     "execution_count": 52,
     "metadata": {},
     "output_type": "execute_result"
    }
   ],
   "source": [
    "ResultSheetDF"
   ]
  },
  {
   "cell_type": "markdown",
   "id": "7cb11bd6",
   "metadata": {},
   "source": [
    "                                Accessing DataFrames Element through  Indexing"
   ]
  },
  {
   "cell_type": "code",
   "execution_count": 53,
   "id": "4ba18925",
   "metadata": {},
   "outputs": [
    {
     "data": {
      "text/plain": [
       "Arnab       86\n",
       "Ramit       86\n",
       "Samridhi    85\n",
       "Riya        85\n",
       "Mallika     85\n",
       "preeti      86\n",
       "Name: English, dtype: int64"
      ]
     },
     "execution_count": 53,
     "metadata": {},
     "output_type": "execute_result"
    }
   ],
   "source": [
    "ResultSheetDF.loc['English']"
   ]
  },
  {
   "cell_type": "code",
   "execution_count": 54,
   "id": "e0b30f8f",
   "metadata": {},
   "outputs": [],
   "source": [
    "ResultSheet={'Arnab': pd.Series([90, 91, 97],index=['Maths','Science','Hindi']),'Ramit': pd.Series([92, 81, 96],index=['Maths','Science','Hindi']),'Samridhi': pd.Series([89, 91, 88],index=['Maths','Science','Hindi']),'Riya': pd.Series([81, 71, 67],index=['Maths','Science','Hindi']),'Mallika': pd.Series([94, 95, 99],index=['Maths','Science','Hindi'])}"
   ]
  },
  {
   "cell_type": "code",
   "execution_count": 55,
   "id": "5d3cb4eb",
   "metadata": {},
   "outputs": [],
   "source": [
    "ResultDF = pd.DataFrame(ResultSheet)\n"
   ]
  },
  {
   "cell_type": "code",
   "execution_count": 56,
   "id": "1ea4b8d1",
   "metadata": {},
   "outputs": [
    {
     "data": {
      "text/html": [
       "<div>\n",
       "<style scoped>\n",
       "    .dataframe tbody tr th:only-of-type {\n",
       "        vertical-align: middle;\n",
       "    }\n",
       "\n",
       "    .dataframe tbody tr th {\n",
       "        vertical-align: top;\n",
       "    }\n",
       "\n",
       "    .dataframe thead th {\n",
       "        text-align: right;\n",
       "    }\n",
       "</style>\n",
       "<table border=\"1\" class=\"dataframe\">\n",
       "  <thead>\n",
       "    <tr style=\"text-align: right;\">\n",
       "      <th></th>\n",
       "      <th>Arnab</th>\n",
       "      <th>Ramit</th>\n",
       "      <th>Samridhi</th>\n",
       "      <th>Riya</th>\n",
       "      <th>Mallika</th>\n",
       "    </tr>\n",
       "  </thead>\n",
       "  <tbody>\n",
       "    <tr>\n",
       "      <th>Maths</th>\n",
       "      <td>90</td>\n",
       "      <td>92</td>\n",
       "      <td>89</td>\n",
       "      <td>81</td>\n",
       "      <td>94</td>\n",
       "    </tr>\n",
       "    <tr>\n",
       "      <th>Science</th>\n",
       "      <td>91</td>\n",
       "      <td>81</td>\n",
       "      <td>91</td>\n",
       "      <td>71</td>\n",
       "      <td>95</td>\n",
       "    </tr>\n",
       "    <tr>\n",
       "      <th>Hindi</th>\n",
       "      <td>97</td>\n",
       "      <td>96</td>\n",
       "      <td>88</td>\n",
       "      <td>67</td>\n",
       "      <td>99</td>\n",
       "    </tr>\n",
       "  </tbody>\n",
       "</table>\n",
       "</div>"
      ],
      "text/plain": [
       "         Arnab  Ramit  Samridhi  Riya  Mallika\n",
       "Maths       90     92        89    81       94\n",
       "Science     91     81        91    71       95\n",
       "Hindi       97     96        88    67       99"
      ]
     },
     "execution_count": 56,
     "metadata": {},
     "output_type": "execute_result"
    }
   ],
   "source": [
    "ResultDF"
   ]
  },
  {
   "cell_type": "code",
   "execution_count": 57,
   "id": "ea0e501d",
   "metadata": {},
   "outputs": [
    {
     "data": {
      "text/html": [
       "<div>\n",
       "<style scoped>\n",
       "    .dataframe tbody tr th:only-of-type {\n",
       "        vertical-align: middle;\n",
       "    }\n",
       "\n",
       "    .dataframe tbody tr th {\n",
       "        vertical-align: top;\n",
       "    }\n",
       "\n",
       "    .dataframe thead th {\n",
       "        text-align: right;\n",
       "    }\n",
       "</style>\n",
       "<table border=\"1\" class=\"dataframe\">\n",
       "  <thead>\n",
       "    <tr style=\"text-align: right;\">\n",
       "      <th></th>\n",
       "      <th>Arnab</th>\n",
       "      <th>Ramit</th>\n",
       "      <th>Samridhi</th>\n",
       "      <th>Riya</th>\n",
       "    </tr>\n",
       "  </thead>\n",
       "  <tbody>\n",
       "    <tr>\n",
       "      <th>Maths</th>\n",
       "      <td>90</td>\n",
       "      <td>92</td>\n",
       "      <td>89</td>\n",
       "      <td>81</td>\n",
       "    </tr>\n",
       "    <tr>\n",
       "      <th>Science</th>\n",
       "      <td>91</td>\n",
       "      <td>81</td>\n",
       "      <td>91</td>\n",
       "      <td>71</td>\n",
       "    </tr>\n",
       "  </tbody>\n",
       "</table>\n",
       "</div>"
      ],
      "text/plain": [
       "         Arnab  Ramit  Samridhi  Riya\n",
       "Maths       90     92        89    81\n",
       "Science     91     81        91    71"
      ]
     },
     "execution_count": 57,
     "metadata": {},
     "output_type": "execute_result"
    }
   ],
   "source": [
    "ResultDF.iloc[0:2,0:4]\n",
    "# When a single column label is passed, it returns the column \n",
    "# as a Series.\n",
    "#  ResultDF.loc[:,'Arnab']\n"
   ]
  },
  {
   "cell_type": "code",
   "execution_count": 58,
   "id": "68259b41",
   "metadata": {},
   "outputs": [
    {
     "data": {
      "text/html": [
       "<div>\n",
       "<style scoped>\n",
       "    .dataframe tbody tr th:only-of-type {\n",
       "        vertical-align: middle;\n",
       "    }\n",
       "\n",
       "    .dataframe tbody tr th {\n",
       "        vertical-align: top;\n",
       "    }\n",
       "\n",
       "    .dataframe thead th {\n",
       "        text-align: right;\n",
       "    }\n",
       "</style>\n",
       "<table border=\"1\" class=\"dataframe\">\n",
       "  <thead>\n",
       "    <tr style=\"text-align: right;\">\n",
       "      <th></th>\n",
       "      <th>Arnab</th>\n",
       "      <th>Ramit</th>\n",
       "      <th>Samridhi</th>\n",
       "    </tr>\n",
       "  </thead>\n",
       "  <tbody>\n",
       "    <tr>\n",
       "      <th>Maths</th>\n",
       "      <td>90</td>\n",
       "      <td>92</td>\n",
       "      <td>89</td>\n",
       "    </tr>\n",
       "    <tr>\n",
       "      <th>Science</th>\n",
       "      <td>91</td>\n",
       "      <td>81</td>\n",
       "      <td>91</td>\n",
       "    </tr>\n",
       "  </tbody>\n",
       "</table>\n",
       "</div>"
      ],
      "text/plain": [
       "         Arnab  Ramit  Samridhi\n",
       "Maths       90     92        89\n",
       "Science     91     81        91"
      ]
     },
     "execution_count": 58,
     "metadata": {},
     "output_type": "execute_result"
    }
   ],
   "source": [
    "ResultDF.loc['Maths': 'Science', \"Arnab\":\"Samridhi\"]"
   ]
  },
  {
   "cell_type": "code",
   "execution_count": null,
   "id": "7e6b9f2c",
   "metadata": {},
   "outputs": [],
   "source": []
  },
  {
   "cell_type": "code",
   "execution_count": 59,
   "id": "29a53c03",
   "metadata": {},
   "outputs": [
    {
     "data": {
      "text/plain": [
       "Arnab       91\n",
       "Ramit       81\n",
       "Samridhi    91\n",
       "Riya        71\n",
       "Mallika     95\n",
       "Name: Science, dtype: int64"
      ]
     },
     "execution_count": 59,
     "metadata": {},
     "output_type": "execute_result"
    }
   ],
   "source": [
    "ResultDF.loc['Science']"
   ]
  },
  {
   "cell_type": "code",
   "execution_count": 60,
   "id": "b1703793",
   "metadata": {},
   "outputs": [
    {
     "data": {
      "text/plain": [
       "Arnab       False\n",
       "Ramit        True\n",
       "Samridhi    False\n",
       "Riya        False\n",
       "Mallika      True\n",
       "Name: Maths, dtype: bool"
      ]
     },
     "execution_count": 60,
     "metadata": {},
     "output_type": "execute_result"
    }
   ],
   "source": [
    "ResultDF.loc['Maths'] > 90"
   ]
  },
  {
   "cell_type": "code",
   "execution_count": 61,
   "id": "a7b26ffc",
   "metadata": {},
   "outputs": [
    {
     "data": {
      "text/plain": [
       "Maths      False\n",
       "Science     True\n",
       "Hindi       True\n",
       "Name: Arnab, dtype: bool"
      ]
     },
     "execution_count": 61,
     "metadata": {},
     "output_type": "execute_result"
    }
   ],
   "source": [
    "ResultDF.loc[:,'Arnab']>90\n"
   ]
  },
  {
   "cell_type": "markdown",
   "id": "6df189ae",
   "metadata": {},
   "source": [
    "                                        joining dataframe"
   ]
  },
  {
   "cell_type": "code",
   "execution_count": 62,
   "id": "1b847f68",
   "metadata": {},
   "outputs": [],
   "source": [
    "dFrame1=pd.DataFrame([[1, 2, 3], [4, 5], [6]], columns=['C1', 'C2', 'C3'], index=['R1', 'R2', 'R3'])"
   ]
  },
  {
   "cell_type": "code",
   "execution_count": 63,
   "id": "b4db7d22",
   "metadata": {},
   "outputs": [
    {
     "data": {
      "text/html": [
       "<div>\n",
       "<style scoped>\n",
       "    .dataframe tbody tr th:only-of-type {\n",
       "        vertical-align: middle;\n",
       "    }\n",
       "\n",
       "    .dataframe tbody tr th {\n",
       "        vertical-align: top;\n",
       "    }\n",
       "\n",
       "    .dataframe thead th {\n",
       "        text-align: right;\n",
       "    }\n",
       "</style>\n",
       "<table border=\"1\" class=\"dataframe\">\n",
       "  <thead>\n",
       "    <tr style=\"text-align: right;\">\n",
       "      <th></th>\n",
       "      <th>C1</th>\n",
       "      <th>C2</th>\n",
       "      <th>C3</th>\n",
       "    </tr>\n",
       "  </thead>\n",
       "  <tbody>\n",
       "    <tr>\n",
       "      <th>R1</th>\n",
       "      <td>1</td>\n",
       "      <td>2.0</td>\n",
       "      <td>3.0</td>\n",
       "    </tr>\n",
       "    <tr>\n",
       "      <th>R2</th>\n",
       "      <td>4</td>\n",
       "      <td>5.0</td>\n",
       "      <td>NaN</td>\n",
       "    </tr>\n",
       "    <tr>\n",
       "      <th>R3</th>\n",
       "      <td>6</td>\n",
       "      <td>NaN</td>\n",
       "      <td>NaN</td>\n",
       "    </tr>\n",
       "  </tbody>\n",
       "</table>\n",
       "</div>"
      ],
      "text/plain": [
       "    C1   C2   C3\n",
       "R1   1  2.0  3.0\n",
       "R2   4  5.0  NaN\n",
       "R3   6  NaN  NaN"
      ]
     },
     "execution_count": 63,
     "metadata": {},
     "output_type": "execute_result"
    }
   ],
   "source": [
    "dFrame1"
   ]
  },
  {
   "cell_type": "code",
   "execution_count": 64,
   "id": "8b76b153",
   "metadata": {},
   "outputs": [],
   "source": [
    "dFrame2=pd.DataFrame([[10, 20], [30], [40, 50]], columns=['C2', 'C5'], index=['R4', 'R2', 'R5'])"
   ]
  },
  {
   "cell_type": "code",
   "execution_count": 65,
   "id": "48ceb6ec",
   "metadata": {},
   "outputs": [
    {
     "name": "stderr",
     "output_type": "stream",
     "text": [
      "C:\\Users\\mrpam\\AppData\\Local\\Temp\\ipykernel_21380\\2125746391.py:1: FutureWarning: The frame.append method is deprecated and will be removed from pandas in a future version. Use pandas.concat instead.\n",
      "  dFrame1=dFrame1.append(dFrame2)\n"
     ]
    }
   ],
   "source": [
    "dFrame1=dFrame1.append(dFrame2)"
   ]
  },
  {
   "cell_type": "code",
   "execution_count": 66,
   "id": "02093e63",
   "metadata": {},
   "outputs": [
    {
     "data": {
      "text/html": [
       "<div>\n",
       "<style scoped>\n",
       "    .dataframe tbody tr th:only-of-type {\n",
       "        vertical-align: middle;\n",
       "    }\n",
       "\n",
       "    .dataframe tbody tr th {\n",
       "        vertical-align: top;\n",
       "    }\n",
       "\n",
       "    .dataframe thead th {\n",
       "        text-align: right;\n",
       "    }\n",
       "</style>\n",
       "<table border=\"1\" class=\"dataframe\">\n",
       "  <thead>\n",
       "    <tr style=\"text-align: right;\">\n",
       "      <th></th>\n",
       "      <th>C1</th>\n",
       "      <th>C2</th>\n",
       "      <th>C3</th>\n",
       "      <th>C5</th>\n",
       "    </tr>\n",
       "  </thead>\n",
       "  <tbody>\n",
       "    <tr>\n",
       "      <th>R1</th>\n",
       "      <td>1.0</td>\n",
       "      <td>2.0</td>\n",
       "      <td>3.0</td>\n",
       "      <td>NaN</td>\n",
       "    </tr>\n",
       "    <tr>\n",
       "      <th>R2</th>\n",
       "      <td>4.0</td>\n",
       "      <td>5.0</td>\n",
       "      <td>NaN</td>\n",
       "      <td>NaN</td>\n",
       "    </tr>\n",
       "    <tr>\n",
       "      <th>R3</th>\n",
       "      <td>6.0</td>\n",
       "      <td>NaN</td>\n",
       "      <td>NaN</td>\n",
       "      <td>NaN</td>\n",
       "    </tr>\n",
       "    <tr>\n",
       "      <th>R4</th>\n",
       "      <td>NaN</td>\n",
       "      <td>10.0</td>\n",
       "      <td>NaN</td>\n",
       "      <td>20.0</td>\n",
       "    </tr>\n",
       "    <tr>\n",
       "      <th>R2</th>\n",
       "      <td>NaN</td>\n",
       "      <td>30.0</td>\n",
       "      <td>NaN</td>\n",
       "      <td>NaN</td>\n",
       "    </tr>\n",
       "    <tr>\n",
       "      <th>R5</th>\n",
       "      <td>NaN</td>\n",
       "      <td>40.0</td>\n",
       "      <td>NaN</td>\n",
       "      <td>50.0</td>\n",
       "    </tr>\n",
       "  </tbody>\n",
       "</table>\n",
       "</div>"
      ],
      "text/plain": [
       "     C1    C2   C3    C5\n",
       "R1  1.0   2.0  3.0   NaN\n",
       "R2  4.0   5.0  NaN   NaN\n",
       "R3  6.0   NaN  NaN   NaN\n",
       "R4  NaN  10.0  NaN  20.0\n",
       "R2  NaN  30.0  NaN   NaN\n",
       "R5  NaN  40.0  NaN  50.0"
      ]
     },
     "execution_count": 66,
     "metadata": {},
     "output_type": "execute_result"
    }
   ],
   "source": [
    "dFrame1"
   ]
  },
  {
   "cell_type": "markdown",
   "id": "118da018",
   "metadata": {},
   "source": [
    "                                        -----casestudy_NCERT-------- \n"
   ]
  },
  {
   "cell_type": "code",
   "execution_count": 67,
   "id": "a05a02ab",
   "metadata": {},
   "outputs": [],
   "source": [
    "name = [\"madhu\",\"kusum\",\"kinshuk\",\"ankit\",\"shruti\"]\n",
    "y_2014 = np.random.randint(100,40000,size = 5)\n",
    "y_2015 = np.random.randint(12000,45000,size = 5)\n",
    "y_2016 = np.random.randint(20000,125000,size = 5)\n",
    "y_2017 = np.random.randint(5000,90000,size = 5)\n"
   ]
  },
  {
   "cell_type": "code",
   "execution_count": 68,
   "id": "4259a608",
   "metadata": {},
   "outputs": [],
   "source": [
    "df_sales = pd.DataFrame({\"name\":name,\"y_2014\":y_2014,\"y_2015\":y_2015,\"y_2016\":y_2016,\"y_2017\":y_2017})"
   ]
  },
  {
   "cell_type": "code",
   "execution_count": 69,
   "id": "9218f96e",
   "metadata": {},
   "outputs": [
    {
     "data": {
      "text/html": [
       "<div>\n",
       "<style scoped>\n",
       "    .dataframe tbody tr th:only-of-type {\n",
       "        vertical-align: middle;\n",
       "    }\n",
       "\n",
       "    .dataframe tbody tr th {\n",
       "        vertical-align: top;\n",
       "    }\n",
       "\n",
       "    .dataframe thead th {\n",
       "        text-align: right;\n",
       "    }\n",
       "</style>\n",
       "<table border=\"1\" class=\"dataframe\">\n",
       "  <thead>\n",
       "    <tr style=\"text-align: right;\">\n",
       "      <th></th>\n",
       "      <th>y_2014</th>\n",
       "      <th>y_2015</th>\n",
       "      <th>y_2016</th>\n",
       "      <th>y_2017</th>\n",
       "    </tr>\n",
       "    <tr>\n",
       "      <th>name</th>\n",
       "      <th></th>\n",
       "      <th></th>\n",
       "      <th></th>\n",
       "      <th></th>\n",
       "    </tr>\n",
       "  </thead>\n",
       "  <tbody>\n",
       "    <tr>\n",
       "      <th>madhu</th>\n",
       "      <td>33249</td>\n",
       "      <td>29157</td>\n",
       "      <td>24352</td>\n",
       "      <td>59454</td>\n",
       "    </tr>\n",
       "    <tr>\n",
       "      <th>kusum</th>\n",
       "      <td>32875</td>\n",
       "      <td>31281</td>\n",
       "      <td>112285</td>\n",
       "      <td>74991</td>\n",
       "    </tr>\n",
       "    <tr>\n",
       "      <th>kinshuk</th>\n",
       "      <td>37177</td>\n",
       "      <td>18659</td>\n",
       "      <td>70319</td>\n",
       "      <td>88368</td>\n",
       "    </tr>\n",
       "    <tr>\n",
       "      <th>ankit</th>\n",
       "      <td>8868</td>\n",
       "      <td>23998</td>\n",
       "      <td>58660</td>\n",
       "      <td>54483</td>\n",
       "    </tr>\n",
       "    <tr>\n",
       "      <th>shruti</th>\n",
       "      <td>37619</td>\n",
       "      <td>31166</td>\n",
       "      <td>88448</td>\n",
       "      <td>13444</td>\n",
       "    </tr>\n",
       "  </tbody>\n",
       "</table>\n",
       "</div>"
      ],
      "text/plain": [
       "         y_2014  y_2015  y_2016  y_2017\n",
       "name                                   \n",
       "madhu     33249   29157   24352   59454\n",
       "kusum     32875   31281  112285   74991\n",
       "kinshuk   37177   18659   70319   88368\n",
       "ankit      8868   23998   58660   54483\n",
       "shruti    37619   31166   88448   13444"
      ]
     },
     "execution_count": 69,
     "metadata": {},
     "output_type": "execute_result"
    }
   ],
   "source": [
    "df_sales.set_index(\"name\")"
   ]
  },
  {
   "cell_type": "code",
   "execution_count": 70,
   "id": "41d93508",
   "metadata": {},
   "outputs": [
    {
     "data": {
      "text/plain": [
       "name      madhu\n",
       "y_2014    33249\n",
       "y_2015    29157\n",
       "y_2016    24352\n",
       "y_2017    59454\n",
       "Name: 0, dtype: object"
      ]
     },
     "execution_count": 70,
     "metadata": {},
     "output_type": "execute_result"
    }
   ],
   "source": [
    "df_sales.loc[0]"
   ]
  },
  {
   "cell_type": "code",
   "execution_count": 72,
   "id": "02532ab3",
   "metadata": {},
   "outputs": [
    {
     "data": {
      "text/html": [
       "<div>\n",
       "<style scoped>\n",
       "    .dataframe tbody tr th:only-of-type {\n",
       "        vertical-align: middle;\n",
       "    }\n",
       "\n",
       "    .dataframe tbody tr th {\n",
       "        vertical-align: top;\n",
       "    }\n",
       "\n",
       "    .dataframe thead th {\n",
       "        text-align: right;\n",
       "    }\n",
       "</style>\n",
       "<table border=\"1\" class=\"dataframe\">\n",
       "  <thead>\n",
       "    <tr style=\"text-align: right;\">\n",
       "      <th></th>\n",
       "      <th>name</th>\n",
       "      <th>y_2014</th>\n",
       "      <th>y_2015</th>\n",
       "      <th>y_2016</th>\n",
       "      <th>y_2017</th>\n",
       "    </tr>\n",
       "  </thead>\n",
       "  <tbody>\n",
       "    <tr>\n",
       "      <th>0</th>\n",
       "      <td>madhu</td>\n",
       "      <td>33249</td>\n",
       "      <td>29157</td>\n",
       "      <td>24352</td>\n",
       "      <td>59454</td>\n",
       "    </tr>\n",
       "    <tr>\n",
       "      <th>1</th>\n",
       "      <td>kusum</td>\n",
       "      <td>32875</td>\n",
       "      <td>31281</td>\n",
       "      <td>112285</td>\n",
       "      <td>74991</td>\n",
       "    </tr>\n",
       "    <tr>\n",
       "      <th>2</th>\n",
       "      <td>kinshuk</td>\n",
       "      <td>37177</td>\n",
       "      <td>18659</td>\n",
       "      <td>70319</td>\n",
       "      <td>88368</td>\n",
       "    </tr>\n",
       "  </tbody>\n",
       "</table>\n",
       "</div>"
      ],
      "text/plain": [
       "      name  y_2014  y_2015  y_2016  y_2017\n",
       "0    madhu   33249   29157   24352   59454\n",
       "1    kusum   32875   31281  112285   74991\n",
       "2  kinshuk   37177   18659   70319   88368"
      ]
     },
     "execution_count": 72,
     "metadata": {},
     "output_type": "execute_result"
    }
   ],
   "source": [
    "df_sales.loc[0:2]"
   ]
  },
  {
   "cell_type": "code",
   "execution_count": 73,
   "id": "8ff62d84",
   "metadata": {},
   "outputs": [
    {
     "data": {
      "text/html": [
       "<div>\n",
       "<style scoped>\n",
       "    .dataframe tbody tr th:only-of-type {\n",
       "        vertical-align: middle;\n",
       "    }\n",
       "\n",
       "    .dataframe tbody tr th {\n",
       "        vertical-align: top;\n",
       "    }\n",
       "\n",
       "    .dataframe thead th {\n",
       "        text-align: right;\n",
       "    }\n",
       "</style>\n",
       "<table border=\"1\" class=\"dataframe\">\n",
       "  <thead>\n",
       "    <tr style=\"text-align: right;\">\n",
       "      <th></th>\n",
       "      <th>name</th>\n",
       "      <th>y_2014</th>\n",
       "      <th>y_2015</th>\n",
       "      <th>y_2016</th>\n",
       "      <th>y_2017</th>\n",
       "    </tr>\n",
       "  </thead>\n",
       "  <tbody>\n",
       "    <tr>\n",
       "      <th>0</th>\n",
       "      <td>madhu</td>\n",
       "      <td>33249</td>\n",
       "      <td>29157</td>\n",
       "      <td>24352</td>\n",
       "      <td>59454</td>\n",
       "    </tr>\n",
       "    <tr>\n",
       "      <th>2</th>\n",
       "      <td>kinshuk</td>\n",
       "      <td>37177</td>\n",
       "      <td>18659</td>\n",
       "      <td>70319</td>\n",
       "      <td>88368</td>\n",
       "    </tr>\n",
       "    <tr>\n",
       "      <th>4</th>\n",
       "      <td>shruti</td>\n",
       "      <td>37619</td>\n",
       "      <td>31166</td>\n",
       "      <td>88448</td>\n",
       "      <td>13444</td>\n",
       "    </tr>\n",
       "  </tbody>\n",
       "</table>\n",
       "</div>"
      ],
      "text/plain": [
       "      name  y_2014  y_2015  y_2016  y_2017\n",
       "0    madhu   33249   29157   24352   59454\n",
       "2  kinshuk   37177   18659   70319   88368\n",
       "4   shruti   37619   31166   88448   13444"
      ]
     },
     "execution_count": 73,
     "metadata": {},
     "output_type": "execute_result"
    }
   ],
   "source": [
    "df_sales.loc[0:4:2]"
   ]
  }
 ],
 "metadata": {
  "kernelspec": {
   "display_name": "Python 3 (ipykernel)",
   "language": "python",
   "name": "python3"
  },
  "language_info": {
   "codemirror_mode": {
    "name": "ipython",
    "version": 3
   },
   "file_extension": ".py",
   "mimetype": "text/x-python",
   "name": "python",
   "nbconvert_exporter": "python",
   "pygments_lexer": "ipython3",
   "version": "3.9.12"
  }
 },
 "nbformat": 4,
 "nbformat_minor": 5
}
